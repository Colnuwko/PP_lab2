{
 "cells": [
  {
   "cell_type": "code",
   "execution_count": 1,
   "metadata": {},
   "outputs": [],
   "source": [
    "import numpy as np"
   ]
  },
  {
   "cell_type": "code",
   "execution_count": 2,
   "metadata": {},
   "outputs": [],
   "source": [
    "def read_data(file_name: str):\n",
    "    with open(file_name, \"r\") as file:\n",
    "        data = file.read()\n",
    "    data = data.split(\" \")\n",
    "    return data\n"
   ]
  },
  {
   "cell_type": "code",
   "execution_count": 3,
   "metadata": {},
   "outputs": [],
   "source": [
    "def oneD_arr_to_2D(data_from_file, size: int):\n",
    "    matrix = np.empty(shape=[size, size], dtype=int)\n",
    "    count = 0\n",
    "    for i in range(size):\n",
    "        for j in range(size):\n",
    "\n",
    "            matrix[i][j] = data_from_file[count]\n",
    "            count += 1\n",
    "    return matrix\n"
   ]
  },
  {
   "cell_type": "code",
   "execution_count": 4,
   "metadata": {},
   "outputs": [],
   "source": [
    "def check_result(matrix_res_python, matrix_res_c) -> bool:\n",
    "    size = len(matrix_res_c[0])\n",
    "    for i in range(size):\n",
    "        for j in range(size):\n",
    "            if (matrix_res_c != matrix_res_python).any():\n",
    "                    print(\"Размер-\", size,\"*\",size,\"Посчитан неверно\")\n",
    "    print(\"Размер-\", size,\"*\",size,\"Посчитан верно\")\n",
    "    \n"
   ]
  },
  {
   "cell_type": "code",
   "execution_count": 5,
   "metadata": {},
   "outputs": [
    {
     "name": "stdout",
     "output_type": "stream",
     "text": [
      "[[95 30 13 ... 39 51 69]\n",
      " [77 44 76 ... 71 30 29]\n",
      " [35 66  0 ... 33 72 82]\n",
      " ...\n",
      " [32 84 92 ...  0 67 72]\n",
      " [50 54 36 ... 52 87 95]\n",
      " [ 1 44 65 ... 50 64 10]]\n"
     ]
    }
   ],
   "source": [
    "data = read_data(\"1000.txt\")\n",
    "matrix = oneD_arr_to_2D(data, 1000)\n",
    "matrix_12 = np.asmatrix(matrix)\n",
    "print(matrix_12)\n"
   ]
  },
  {
   "cell_type": "code",
   "execution_count": 6,
   "metadata": {},
   "outputs": [
    {
     "name": "stdout",
     "output_type": "stream",
     "text": [
      "500\n",
      "Размер- 1 * 1 Посчитан верно\n",
      "1000\n",
      "Размер- 1 * 1 Посчитан верно\n",
      "1500\n",
      "Размер- 1 * 1 Посчитан верно\n",
      "2000\n",
      "Размер- 1 * 1 Посчитан верно\n"
     ]
    }
   ],
   "source": [
    "hard_code_names = [500, 1000, 1500, 2000]\n",
    "for i in hard_code_names:\n",
    "    print(i)\n",
    "    file_name_first = str(i) +\".txt\"\n",
    "    file_name_second = str(i) + \"_2\" + \".txt\"\n",
    "    file_name_result = \"result_\" + str(i) + \".txt\"\n",
    "    matrix_1 = np.asmatrix(oneD_arr_to_2D(read_data(file_name_first), i))\n",
    "    matrix_2 = np.asmatrix(oneD_arr_to_2D(read_data(file_name_second), i))\n",
    "    matrix_res_c = np.asmatrix(oneD_arr_to_2D(read_data(file_name_result), i))\n",
    "    matrix_res_python = np.matmul(matrix_1, matrix_2)\n",
    "    check_result(matrix_res_python, matrix_res_c)\n",
    "    \n",
    "    "
   ]
  }
 ],
 "metadata": {
  "kernelspec": {
   "display_name": "Python 3",
   "language": "python",
   "name": "python3"
  },
  "language_info": {
   "codemirror_mode": {
    "name": "ipython",
    "version": 3
   },
   "file_extension": ".py",
   "mimetype": "text/x-python",
   "name": "python",
   "nbconvert_exporter": "python",
   "pygments_lexer": "ipython3",
   "version": "3.12.2"
  }
 },
 "nbformat": 4,
 "nbformat_minor": 2
}
